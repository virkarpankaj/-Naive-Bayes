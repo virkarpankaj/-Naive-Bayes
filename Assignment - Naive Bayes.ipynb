{
 "cells": [
  {
   "cell_type": "code",
   "execution_count": null,
   "id": "39ed0126",
   "metadata": {},
   "outputs": [],
   "source": [
    "# Prepare a classification model using Naive Bayes for salary data "
   ]
  },
  {
   "cell_type": "code",
   "execution_count": 1,
   "id": "45b228f0",
   "metadata": {},
   "outputs": [],
   "source": [
    "import pandas as pd\n",
    "import numpy as np\n",
    "\n",
    "import matplotlib.pyplot as plt\n",
    "%matplotlib inline\n",
    "\n",
    "import seaborn as sns\n",
    "sns.set()"
   ]
  },
  {
   "cell_type": "code",
   "execution_count": 2,
   "id": "d5c7f9e5",
   "metadata": {},
   "outputs": [],
   "source": [
    "# import Naive Bayes Lib\n",
    "\n",
    "from sklearn.naive_bayes import GaussianNB,BernoulliNB"
   ]
  },
  {
   "cell_type": "code",
   "execution_count": 3,
   "id": "0a95f426",
   "metadata": {},
   "outputs": [],
   "source": [
    "#to split the data\n",
    "from sklearn.model_selection import train_test_split\n",
    "\n",
    "# Metrics\n",
    "from sklearn.metrics import accuracy_score,confusion_matrix"
   ]
  },
  {
   "cell_type": "code",
   "execution_count": 4,
   "id": "9958c7c9",
   "metadata": {},
   "outputs": [],
   "source": [
    "import warnings\n",
    "warnings.filterwarnings('ignore')"
   ]
  },
  {
   "cell_type": "code",
   "execution_count": null,
   "id": "3ffbca03",
   "metadata": {},
   "outputs": [],
   "source": []
  },
  {
   "cell_type": "code",
   "execution_count": 5,
   "id": "acb41e05",
   "metadata": {},
   "outputs": [],
   "source": [
    "salary_test = pd.read_csv('SalaryData_Test.csv')\n",
    "salary_train = pd.read_csv('SalaryData_Train.csv')"
   ]
  },
  {
   "cell_type": "code",
   "execution_count": 6,
   "id": "2e168c53",
   "metadata": {},
   "outputs": [
    {
     "data": {
      "text/html": [
       "<div>\n",
       "<style scoped>\n",
       "    .dataframe tbody tr th:only-of-type {\n",
       "        vertical-align: middle;\n",
       "    }\n",
       "\n",
       "    .dataframe tbody tr th {\n",
       "        vertical-align: top;\n",
       "    }\n",
       "\n",
       "    .dataframe thead th {\n",
       "        text-align: right;\n",
       "    }\n",
       "</style>\n",
       "<table border=\"1\" class=\"dataframe\">\n",
       "  <thead>\n",
       "    <tr style=\"text-align: right;\">\n",
       "      <th></th>\n",
       "      <th>age</th>\n",
       "      <th>workclass</th>\n",
       "      <th>education</th>\n",
       "      <th>educationno</th>\n",
       "      <th>maritalstatus</th>\n",
       "      <th>occupation</th>\n",
       "      <th>relationship</th>\n",
       "      <th>race</th>\n",
       "      <th>sex</th>\n",
       "      <th>capitalgain</th>\n",
       "      <th>capitalloss</th>\n",
       "      <th>hoursperweek</th>\n",
       "      <th>native</th>\n",
       "      <th>Salary</th>\n",
       "    </tr>\n",
       "  </thead>\n",
       "  <tbody>\n",
       "    <tr>\n",
       "      <th>0</th>\n",
       "      <td>39</td>\n",
       "      <td>State-gov</td>\n",
       "      <td>Bachelors</td>\n",
       "      <td>13</td>\n",
       "      <td>Never-married</td>\n",
       "      <td>Adm-clerical</td>\n",
       "      <td>Not-in-family</td>\n",
       "      <td>White</td>\n",
       "      <td>Male</td>\n",
       "      <td>2174</td>\n",
       "      <td>0</td>\n",
       "      <td>40</td>\n",
       "      <td>United-States</td>\n",
       "      <td>&lt;=50K</td>\n",
       "    </tr>\n",
       "    <tr>\n",
       "      <th>1</th>\n",
       "      <td>50</td>\n",
       "      <td>Self-emp-not-inc</td>\n",
       "      <td>Bachelors</td>\n",
       "      <td>13</td>\n",
       "      <td>Married-civ-spouse</td>\n",
       "      <td>Exec-managerial</td>\n",
       "      <td>Husband</td>\n",
       "      <td>White</td>\n",
       "      <td>Male</td>\n",
       "      <td>0</td>\n",
       "      <td>0</td>\n",
       "      <td>13</td>\n",
       "      <td>United-States</td>\n",
       "      <td>&lt;=50K</td>\n",
       "    </tr>\n",
       "    <tr>\n",
       "      <th>2</th>\n",
       "      <td>38</td>\n",
       "      <td>Private</td>\n",
       "      <td>HS-grad</td>\n",
       "      <td>9</td>\n",
       "      <td>Divorced</td>\n",
       "      <td>Handlers-cleaners</td>\n",
       "      <td>Not-in-family</td>\n",
       "      <td>White</td>\n",
       "      <td>Male</td>\n",
       "      <td>0</td>\n",
       "      <td>0</td>\n",
       "      <td>40</td>\n",
       "      <td>United-States</td>\n",
       "      <td>&lt;=50K</td>\n",
       "    </tr>\n",
       "    <tr>\n",
       "      <th>3</th>\n",
       "      <td>53</td>\n",
       "      <td>Private</td>\n",
       "      <td>11th</td>\n",
       "      <td>7</td>\n",
       "      <td>Married-civ-spouse</td>\n",
       "      <td>Handlers-cleaners</td>\n",
       "      <td>Husband</td>\n",
       "      <td>Black</td>\n",
       "      <td>Male</td>\n",
       "      <td>0</td>\n",
       "      <td>0</td>\n",
       "      <td>40</td>\n",
       "      <td>United-States</td>\n",
       "      <td>&lt;=50K</td>\n",
       "    </tr>\n",
       "    <tr>\n",
       "      <th>4</th>\n",
       "      <td>28</td>\n",
       "      <td>Private</td>\n",
       "      <td>Bachelors</td>\n",
       "      <td>13</td>\n",
       "      <td>Married-civ-spouse</td>\n",
       "      <td>Prof-specialty</td>\n",
       "      <td>Wife</td>\n",
       "      <td>Black</td>\n",
       "      <td>Female</td>\n",
       "      <td>0</td>\n",
       "      <td>0</td>\n",
       "      <td>40</td>\n",
       "      <td>Cuba</td>\n",
       "      <td>&lt;=50K</td>\n",
       "    </tr>\n",
       "  </tbody>\n",
       "</table>\n",
       "</div>"
      ],
      "text/plain": [
       "   age          workclass   education  educationno        maritalstatus  \\\n",
       "0   39          State-gov   Bachelors           13        Never-married   \n",
       "1   50   Self-emp-not-inc   Bachelors           13   Married-civ-spouse   \n",
       "2   38            Private     HS-grad            9             Divorced   \n",
       "3   53            Private        11th            7   Married-civ-spouse   \n",
       "4   28            Private   Bachelors           13   Married-civ-spouse   \n",
       "\n",
       "           occupation    relationship    race      sex  capitalgain  \\\n",
       "0        Adm-clerical   Not-in-family   White     Male         2174   \n",
       "1     Exec-managerial         Husband   White     Male            0   \n",
       "2   Handlers-cleaners   Not-in-family   White     Male            0   \n",
       "3   Handlers-cleaners         Husband   Black     Male            0   \n",
       "4      Prof-specialty            Wife   Black   Female            0   \n",
       "\n",
       "   capitalloss  hoursperweek          native  Salary  \n",
       "0            0            40   United-States   <=50K  \n",
       "1            0            13   United-States   <=50K  \n",
       "2            0            40   United-States   <=50K  \n",
       "3            0            40   United-States   <=50K  \n",
       "4            0            40            Cuba   <=50K  "
      ]
     },
     "execution_count": 6,
     "metadata": {},
     "output_type": "execute_result"
    }
   ],
   "source": [
    "salary_train.head()"
   ]
  },
  {
   "cell_type": "code",
   "execution_count": 7,
   "id": "4c948744",
   "metadata": {},
   "outputs": [
    {
     "name": "stdout",
     "output_type": "stream",
     "text": [
      "<class 'pandas.core.frame.DataFrame'>\n",
      "RangeIndex: 15060 entries, 0 to 15059\n",
      "Data columns (total 14 columns):\n",
      " #   Column         Non-Null Count  Dtype \n",
      "---  ------         --------------  ----- \n",
      " 0   age            15060 non-null  int64 \n",
      " 1   workclass      15060 non-null  object\n",
      " 2   education      15060 non-null  object\n",
      " 3   educationno    15060 non-null  int64 \n",
      " 4   maritalstatus  15060 non-null  object\n",
      " 5   occupation     15060 non-null  object\n",
      " 6   relationship   15060 non-null  object\n",
      " 7   race           15060 non-null  object\n",
      " 8   sex            15060 non-null  object\n",
      " 9   capitalgain    15060 non-null  int64 \n",
      " 10  capitalloss    15060 non-null  int64 \n",
      " 11  hoursperweek   15060 non-null  int64 \n",
      " 12  native         15060 non-null  object\n",
      " 13  Salary         15060 non-null  object\n",
      "dtypes: int64(5), object(9)\n",
      "memory usage: 1.6+ MB\n"
     ]
    }
   ],
   "source": [
    "salary_test.info()"
   ]
  },
  {
   "cell_type": "code",
   "execution_count": 8,
   "id": "4345d6cf",
   "metadata": {},
   "outputs": [
    {
     "name": "stdout",
     "output_type": "stream",
     "text": [
      "<class 'pandas.core.frame.DataFrame'>\n",
      "RangeIndex: 30161 entries, 0 to 30160\n",
      "Data columns (total 14 columns):\n",
      " #   Column         Non-Null Count  Dtype \n",
      "---  ------         --------------  ----- \n",
      " 0   age            30161 non-null  int64 \n",
      " 1   workclass      30161 non-null  object\n",
      " 2   education      30161 non-null  object\n",
      " 3   educationno    30161 non-null  int64 \n",
      " 4   maritalstatus  30161 non-null  object\n",
      " 5   occupation     30161 non-null  object\n",
      " 6   relationship   30161 non-null  object\n",
      " 7   race           30161 non-null  object\n",
      " 8   sex            30161 non-null  object\n",
      " 9   capitalgain    30161 non-null  int64 \n",
      " 10  capitalloss    30161 non-null  int64 \n",
      " 11  hoursperweek   30161 non-null  int64 \n",
      " 12  native         30161 non-null  object\n",
      " 13  Salary         30161 non-null  object\n",
      "dtypes: int64(5), object(9)\n",
      "memory usage: 3.2+ MB\n"
     ]
    }
   ],
   "source": [
    "salary_train.info()"
   ]
  },
  {
   "cell_type": "code",
   "execution_count": null,
   "id": "828f1db1",
   "metadata": {},
   "outputs": [],
   "source": []
  },
  {
   "cell_type": "code",
   "execution_count": 9,
   "id": "1863f2c2",
   "metadata": {},
   "outputs": [],
   "source": [
    "from sklearn.preprocessing import LabelEncoder"
   ]
  },
  {
   "cell_type": "code",
   "execution_count": 10,
   "id": "0a9534d1",
   "metadata": {},
   "outputs": [],
   "source": [
    "labels=['workclass','education','maritalstatus','occupation','relationship','race','sex','native']"
   ]
  },
  {
   "cell_type": "code",
   "execution_count": 11,
   "id": "0265f2e2",
   "metadata": {},
   "outputs": [],
   "source": [
    "# changing the categorical data in numerical\n",
    "label_encode = LabelEncoder()\n",
    "\n",
    "for i in labels:\n",
    "    salary_train[i] = label_encode.fit_transform(salary_train[i])\n",
    "    salary_test[i] = label_encode.fit_transform(salary_test[i])"
   ]
  },
  {
   "cell_type": "code",
   "execution_count": 12,
   "id": "5ae08b8a",
   "metadata": {},
   "outputs": [
    {
     "data": {
      "text/html": [
       "<div>\n",
       "<style scoped>\n",
       "    .dataframe tbody tr th:only-of-type {\n",
       "        vertical-align: middle;\n",
       "    }\n",
       "\n",
       "    .dataframe tbody tr th {\n",
       "        vertical-align: top;\n",
       "    }\n",
       "\n",
       "    .dataframe thead th {\n",
       "        text-align: right;\n",
       "    }\n",
       "</style>\n",
       "<table border=\"1\" class=\"dataframe\">\n",
       "  <thead>\n",
       "    <tr style=\"text-align: right;\">\n",
       "      <th></th>\n",
       "      <th>age</th>\n",
       "      <th>workclass</th>\n",
       "      <th>education</th>\n",
       "      <th>educationno</th>\n",
       "      <th>maritalstatus</th>\n",
       "      <th>occupation</th>\n",
       "      <th>relationship</th>\n",
       "      <th>race</th>\n",
       "      <th>sex</th>\n",
       "      <th>capitalgain</th>\n",
       "      <th>capitalloss</th>\n",
       "      <th>hoursperweek</th>\n",
       "      <th>native</th>\n",
       "      <th>Salary</th>\n",
       "    </tr>\n",
       "  </thead>\n",
       "  <tbody>\n",
       "    <tr>\n",
       "      <th>0</th>\n",
       "      <td>25</td>\n",
       "      <td>2</td>\n",
       "      <td>1</td>\n",
       "      <td>7</td>\n",
       "      <td>4</td>\n",
       "      <td>6</td>\n",
       "      <td>3</td>\n",
       "      <td>2</td>\n",
       "      <td>1</td>\n",
       "      <td>0</td>\n",
       "      <td>0</td>\n",
       "      <td>40</td>\n",
       "      <td>37</td>\n",
       "      <td>&lt;=50K</td>\n",
       "    </tr>\n",
       "    <tr>\n",
       "      <th>1</th>\n",
       "      <td>38</td>\n",
       "      <td>2</td>\n",
       "      <td>11</td>\n",
       "      <td>9</td>\n",
       "      <td>2</td>\n",
       "      <td>4</td>\n",
       "      <td>0</td>\n",
       "      <td>4</td>\n",
       "      <td>1</td>\n",
       "      <td>0</td>\n",
       "      <td>0</td>\n",
       "      <td>50</td>\n",
       "      <td>37</td>\n",
       "      <td>&lt;=50K</td>\n",
       "    </tr>\n",
       "    <tr>\n",
       "      <th>2</th>\n",
       "      <td>28</td>\n",
       "      <td>1</td>\n",
       "      <td>7</td>\n",
       "      <td>12</td>\n",
       "      <td>2</td>\n",
       "      <td>10</td>\n",
       "      <td>0</td>\n",
       "      <td>4</td>\n",
       "      <td>1</td>\n",
       "      <td>0</td>\n",
       "      <td>0</td>\n",
       "      <td>40</td>\n",
       "      <td>37</td>\n",
       "      <td>&gt;50K</td>\n",
       "    </tr>\n",
       "    <tr>\n",
       "      <th>3</th>\n",
       "      <td>44</td>\n",
       "      <td>2</td>\n",
       "      <td>15</td>\n",
       "      <td>10</td>\n",
       "      <td>2</td>\n",
       "      <td>6</td>\n",
       "      <td>0</td>\n",
       "      <td>2</td>\n",
       "      <td>1</td>\n",
       "      <td>7688</td>\n",
       "      <td>0</td>\n",
       "      <td>40</td>\n",
       "      <td>37</td>\n",
       "      <td>&gt;50K</td>\n",
       "    </tr>\n",
       "    <tr>\n",
       "      <th>4</th>\n",
       "      <td>34</td>\n",
       "      <td>2</td>\n",
       "      <td>0</td>\n",
       "      <td>6</td>\n",
       "      <td>4</td>\n",
       "      <td>7</td>\n",
       "      <td>1</td>\n",
       "      <td>4</td>\n",
       "      <td>1</td>\n",
       "      <td>0</td>\n",
       "      <td>0</td>\n",
       "      <td>30</td>\n",
       "      <td>37</td>\n",
       "      <td>&lt;=50K</td>\n",
       "    </tr>\n",
       "  </tbody>\n",
       "</table>\n",
       "</div>"
      ],
      "text/plain": [
       "   age  workclass  education  educationno  maritalstatus  occupation  \\\n",
       "0   25          2          1            7              4           6   \n",
       "1   38          2         11            9              2           4   \n",
       "2   28          1          7           12              2          10   \n",
       "3   44          2         15           10              2           6   \n",
       "4   34          2          0            6              4           7   \n",
       "\n",
       "   relationship  race  sex  capitalgain  capitalloss  hoursperweek  native  \\\n",
       "0             3     2    1            0            0            40      37   \n",
       "1             0     4    1            0            0            50      37   \n",
       "2             0     4    1            0            0            40      37   \n",
       "3             0     2    1         7688            0            40      37   \n",
       "4             1     4    1            0            0            30      37   \n",
       "\n",
       "   Salary  \n",
       "0   <=50K  \n",
       "1   <=50K  \n",
       "2    >50K  \n",
       "3    >50K  \n",
       "4   <=50K  "
      ]
     },
     "execution_count": 12,
     "metadata": {},
     "output_type": "execute_result"
    }
   ],
   "source": [
    "salary_test.head()"
   ]
  },
  {
   "cell_type": "code",
   "execution_count": null,
   "id": "4fa1f296",
   "metadata": {},
   "outputs": [],
   "source": []
  },
  {
   "cell_type": "code",
   "execution_count": null,
   "id": "2d7f2118",
   "metadata": {},
   "outputs": [],
   "source": [
    "# Identifing Most Relative Features "
   ]
  },
  {
   "cell_type": "code",
   "execution_count": 13,
   "id": "6743990f",
   "metadata": {},
   "outputs": [
    {
     "data": {
      "image/png": "[encoded data removed]",
      "text/plain": [
       "<Figure size 432x288 with 1 Axes>"
      ]
     },
     "metadata": {},
     "output_type": "display_data"
    },
    {
     "data": {
      "image/png": "[encoded data removed]",
      "text/plain": [
       "<Figure size 432x288 with 1 Axes>"
      ]
     },
     "metadata": {},
     "output_type": "display_data"
    },
    {
     "data": {
      "image/png": "[encoded data removed]",
      "text/plain": [
       "<Figure size 432x288 with 1 Axes>"
      ]
     },
     "metadata": {},
     "output_type": "display_data"
    },
    {
     "data": {
      "image/png": "[encoded data removed]",
      "text/plain": [
       "<Figure size 432x288 with 1 Axes>"
      ]
     },
     "metadata": {},
     "output_type": "display_data"
    },
    {
     "data": {
      "image/png": "[encoded data removed]",
      "text/plain": [
       "<Figure size 432x288 with 1 Axes>"
      ]
     },
     "metadata": {},
     "output_type": "display_data"
    },
    {
     "data": {
      "image/png": "[encoded data removed]",
      "text/plain": [
       "<Figure size 432x288 with 1 Axes>"
      ]
     },
     "metadata": {},
     "output_type": "display_data"
    },
    {
     "data": {
      "image/png": "[encoded data removed]",
      "text/plain": [
       "<Figure size 432x288 with 1 Axes>"
      ]
     },
     "metadata": {},
     "output_type": "display_data"
    },
    {
     "data": {
      "image/png": "[encoded data removed]",
      "text/plain": [
       "<Figure size 432x288 with 1 Axes>"
      ]
     },
     "metadata": {},
     "output_type": "display_data"
    },
    {
     "data": {
      "image/png": "[encoded data removed]",
      "text/plain": [
       "<Figure size 432x288 with 1 Axes>"
      ]
     },
     "metadata": {},
     "output_type": "display_data"
    },
    {
     "data": {
      "image/png": "[encoded data removed]",
      "text/plain": [
       "<Figure size 432x288 with 1 Axes>"
      ]
     },
     "metadata": {},
     "output_type": "display_data"
    },
    {
     "data": {
      "image/png": "[encoded data removed]",
      "text/plain": [
       "<Figure size 432x288 with 1 Axes>"
      ]
     },
     "metadata": {},
     "output_type": "display_data"
    },
    {
     "data": {
      "image/png": "[encoded data removed]",
      "text/plain": [
       "<Figure size 432x288 with 1 Axes>"
      ]
     },
     "metadata": {},
     "output_type": "display_data"
    },
    {
     "data": {
      "image/png": "[encoded data removed]",
      "text/plain": [
       "<Figure size 432x288 with 1 Axes>"
      ]
     },
     "metadata": {},
     "output_type": "display_data"
    }
   ],
   "source": [
    "for i in salary_train.columns[0:-1]:\n",
    "    sns.boxplot(salary_train['Salary'],salary_train[i])\n",
    "    plt.show()"
   ]
  },
  {
   "cell_type": "code",
   "execution_count": null,
   "id": "f0383217",
   "metadata": {},
   "outputs": [],
   "source": [
    "# overlapping for all parameters"
   ]
  },
  {
   "cell_type": "markdown",
   "id": "3d9f0f05",
   "metadata": {},
   "source": [
    "### Considering all the Features  "
   ]
  },
  {
   "cell_type": "code",
   "execution_count": 14,
   "id": "17978c56",
   "metadata": {},
   "outputs": [],
   "source": [
    "# splitting the data \n",
    "\n",
    "x_train = salary_train.iloc[:1000,0:13]\n",
    "y_train = salary_train.iloc[:1000,13]\n",
    "\n",
    "x_test = salary_test.iloc[:500,0:13]\n",
    "y_test = salary_test.iloc[:500,13]"
   ]
  },
  {
   "cell_type": "code",
   "execution_count": 15,
   "id": "1b7ea1e2",
   "metadata": {},
   "outputs": [
    {
     "name": "stdout",
     "output_type": "stream",
     "text": [
      "The Accuracy is = 80.10000000000001%\n",
      "The Confussion Matrix is \n",
      " [[706  50]\n",
      " [149  95]]\n"
     ]
    }
   ],
   "source": [
    "# creating Model\n",
    "model_g = GaussianNB()\n",
    "\n",
    "# fitting the Model\n",
    "model_g.fit(x_train,y_train)\n",
    "\n",
    "# predicting on Train Data\n",
    "pred_train_g = model_g.predict(x_train)\n",
    "\n",
    "# finding Accuracy & Confusion Matrix \n",
    "\n",
    "print(f'The Accuracy is = {accuracy_score(y_train,pred_train_g)*100}%')\n",
    "print(f'The Confussion Matrix is \\n {confusion_matrix(y_train,pred_train_g)}')"
   ]
  },
  {
   "cell_type": "code",
   "execution_count": 16,
   "id": "221bd865",
   "metadata": {},
   "outputs": [
    {
     "name": "stdout",
     "output_type": "stream",
     "text": [
      "The Accuracy is = 80.0%\n",
      "The Confussion Matrix is \n",
      " [[354  28]\n",
      " [ 72  46]]\n"
     ]
    }
   ],
   "source": [
    "# predicting on Testing Data\n",
    "pred_test_g = model_g.predict(x_test)\n",
    "\n",
    "# finding Accuracy & Confusion Matrix \n",
    "\n",
    "print(f'The Accuracy is = {accuracy_score(y_test,pred_test_g)*100}%')\n",
    "print(f'The Confussion Matrix is \\n {confusion_matrix(y_test,pred_test_g)}')"
   ]
  },
  {
   "cell_type": "code",
   "execution_count": null,
   "id": "a0083cb2",
   "metadata": {},
   "outputs": [],
   "source": [
    "# similar Accuracy achived by SVM "
   ]
  },
  {
   "cell_type": "markdown",
   "id": "069d2c86",
   "metadata": {},
   "source": [
    "### Considering One Features at A Time"
   ]
  },
  {
   "cell_type": "code",
   "execution_count": 17,
   "id": "0909419a",
   "metadata": {},
   "outputs": [
    {
     "name": "stdout",
     "output_type": "stream",
     "text": [
      "The Accuracy on Train Data of ('age',) is = 75.6%\n",
      "The Accuracy on Test Data of ('age',) is = 76.4%\n",
      "\n",
      "The Accuracy on Train Data of ('workclass',) is = 74.9%\n",
      "The Accuracy on Test Data of ('workclass',) is = 74.2%\n",
      "\n",
      "The Accuracy on Train Data of ('education',) is = 75.6%\n",
      "The Accuracy on Test Data of ('education',) is = 76.4%\n",
      "\n",
      "The Accuracy on Train Data of ('educationno',) is = 77.5%\n",
      "The Accuracy on Test Data of ('educationno',) is = 76.0%\n",
      "\n",
      "The Accuracy on Train Data of ('maritalstatus',) is = 75.6%\n",
      "The Accuracy on Test Data of ('maritalstatus',) is = 76.4%\n",
      "\n",
      "The Accuracy on Train Data of ('occupation',) is = 75.6%\n",
      "The Accuracy on Test Data of ('occupation',) is = 76.4%\n",
      "\n",
      "The Accuracy on Train Data of ('relationship',) is = 75.6%\n",
      "The Accuracy on Test Data of ('relationship',) is = 76.4%\n",
      "\n",
      "The Accuracy on Train Data of ('race',) is = 75.6%\n",
      "The Accuracy on Test Data of ('race',) is = 76.4%\n",
      "\n",
      "The Accuracy on Train Data of ('sex',) is = 75.6%\n",
      "The Accuracy on Test Data of ('sex',) is = 76.4%\n",
      "\n",
      "The Accuracy on Train Data of ('capitalgain',) is = 77.60000000000001%\n",
      "The Accuracy on Test Data of ('capitalgain',) is = 78.8%\n",
      "\n",
      "The Accuracy on Train Data of ('capitalloss',) is = 75.4%\n",
      "The Accuracy on Test Data of ('capitalloss',) is = 76.4%\n",
      "\n",
      "The Accuracy on Train Data of ('hoursperweek',) is = 75.3%\n",
      "The Accuracy on Test Data of ('hoursperweek',) is = 76.2%\n",
      "\n",
      "The Accuracy on Train Data of ('native',) is = 74.1%\n",
      "The Accuracy on Test Data of ('native',) is = 74.6%\n",
      "\n"
     ]
    }
   ],
   "source": [
    "import itertools\n",
    "\n",
    "for i in itertools.combinations(salary_train.columns[0:-1],1):\n",
    "    # creating Model\n",
    "    model_g = GaussianNB()\n",
    "\n",
    "    # fitting the Model\n",
    "    model_g.fit(x_train[list(i)],y_train)\n",
    "\n",
    "    # predicting on Train Data & Test Data\n",
    "    pred_train_g = model_g.predict(x_train[list(i)])\n",
    "    pred_test_g = model_g.predict(x_test[list(i)])\n",
    "    \n",
    "    # finding Accuracy \n",
    "    print(f'The Accuracy on Train Data of {i} is = {accuracy_score(y_train,pred_train_g)*100}%')\n",
    "    print(f'The Accuracy on Test Data of {i} is = {accuracy_score(y_test,pred_test_g)*100}%')\n",
    "    print()"
   ]
  },
  {
   "cell_type": "code",
   "execution_count": null,
   "id": "b0c45bd3",
   "metadata": {},
   "outputs": [],
   "source": []
  },
  {
   "cell_type": "code",
   "execution_count": null,
   "id": "d07b21f3",
   "metadata": {},
   "outputs": [],
   "source": []
  },
  {
   "cell_type": "markdown",
   "id": "cf7cd38e",
   "metadata": {},
   "source": [
    "### Considering 2 Features at a Time"
   ]
  },
  {
   "cell_type": "code",
   "execution_count": 18,
   "id": "28340a8e",
   "metadata": {},
   "outputs": [
    {
     "name": "stdout",
     "output_type": "stream",
     "text": [
      "The Accuracy on Train Data of ('age', 'workclass') is = 74.1%\n",
      "The Accuracy on Test Data of ('age', 'workclass') is = 74.2%\n",
      "\n",
      "The Accuracy on Train Data of ('age', 'education') is = 75.6%\n",
      "The Accuracy on Test Data of ('age', 'education') is = 76.4%\n",
      "\n",
      "The Accuracy on Train Data of ('age', 'educationno') is = 78.2%\n",
      "The Accuracy on Test Data of ('age', 'educationno') is = 77.4%\n",
      "\n",
      "The Accuracy on Train Data of ('age', 'maritalstatus') is = 76.1%\n",
      "The Accuracy on Test Data of ('age', 'maritalstatus') is = 77.2%\n",
      "\n",
      "The Accuracy on Train Data of ('age', 'occupation') is = 75.6%\n",
      "The Accuracy on Test Data of ('age', 'occupation') is = 76.4%\n",
      "\n",
      "The Accuracy on Train Data of ('age', 'relationship') is = 75.6%\n",
      "The Accuracy on Test Data of ('age', 'relationship') is = 76.4%\n",
      "\n",
      "The Accuracy on Train Data of ('age', 'race') is = 75.6%\n",
      "The Accuracy on Test Data of ('age', 'race') is = 76.4%\n",
      "\n",
      "The Accuracy on Train Data of ('age', 'sex') is = 75.6%\n",
      "The Accuracy on Test Data of ('age', 'sex') is = 76.4%\n",
      "\n",
      "The Accuracy on Train Data of ('age', 'capitalgain') is = 77.7%\n",
      "The Accuracy on Test Data of ('age', 'capitalgain') is = 79.0%\n",
      "\n",
      "The Accuracy on Train Data of ('age', 'capitalloss') is = 75.4%\n",
      "The Accuracy on Test Data of ('age', 'capitalloss') is = 76.4%\n",
      "\n",
      "The Accuracy on Train Data of ('age', 'hoursperweek') is = 76.7%\n",
      "The Accuracy on Test Data of ('age', 'hoursperweek') is = 76.0%\n",
      "\n",
      "The Accuracy on Train Data of ('age', 'native') is = 75.1%\n",
      "The Accuracy on Test Data of ('age', 'native') is = 75.2%\n",
      "\n",
      "The Accuracy on Train Data of ('workclass', 'education') is = 72.6%\n",
      "The Accuracy on Test Data of ('workclass', 'education') is = 73.4%\n",
      "\n",
      "The Accuracy on Train Data of ('workclass', 'educationno') is = 76.0%\n",
      "The Accuracy on Test Data of ('workclass', 'educationno') is = 74.4%\n",
      "\n",
      "The Accuracy on Train Data of ('workclass', 'maritalstatus') is = 74.2%\n",
      "The Accuracy on Test Data of ('workclass', 'maritalstatus') is = 74.6%\n",
      "\n",
      "The Accuracy on Train Data of ('workclass', 'occupation') is = 74.9%\n",
      "The Accuracy on Test Data of ('workclass', 'occupation') is = 74.2%\n",
      "\n",
      "The Accuracy on Train Data of ('workclass', 'relationship') is = 72.89999999999999%\n",
      "The Accuracy on Test Data of ('workclass', 'relationship') is = 73.4%\n",
      "\n",
      "The Accuracy on Train Data of ('workclass', 'race') is = 75.1%\n",
      "The Accuracy on Test Data of ('workclass', 'race') is = 74.4%\n",
      "\n",
      "The Accuracy on Train Data of ('workclass', 'sex') is = 71.39999999999999%\n",
      "The Accuracy on Test Data of ('workclass', 'sex') is = 73.4%\n",
      "\n",
      "The Accuracy on Train Data of ('workclass', 'capitalgain') is = 77.60000000000001%\n",
      "The Accuracy on Test Data of ('workclass', 'capitalgain') is = 78.8%\n",
      "\n",
      "The Accuracy on Train Data of ('workclass', 'capitalloss') is = 74.7%\n",
      "The Accuracy on Test Data of ('workclass', 'capitalloss') is = 74.0%\n",
      "\n",
      "The Accuracy on Train Data of ('workclass', 'hoursperweek') is = 75.0%\n",
      "The Accuracy on Test Data of ('workclass', 'hoursperweek') is = 73.2%\n",
      "\n",
      "The Accuracy on Train Data of ('workclass', 'native') is = 73.8%\n",
      "The Accuracy on Test Data of ('workclass', 'native') is = 73.4%\n",
      "\n",
      "The Accuracy on Train Data of ('education', 'educationno') is = 77.5%\n",
      "The Accuracy on Test Data of ('education', 'educationno') is = 76.0%\n",
      "\n",
      "The Accuracy on Train Data of ('education', 'maritalstatus') is = 75.6%\n",
      "The Accuracy on Test Data of ('education', 'maritalstatus') is = 76.4%\n",
      "\n",
      "The Accuracy on Train Data of ('education', 'occupation') is = 75.6%\n",
      "The Accuracy on Test Data of ('education', 'occupation') is = 76.4%\n",
      "\n",
      "The Accuracy on Train Data of ('education', 'relationship') is = 75.6%\n",
      "The Accuracy on Test Data of ('education', 'relationship') is = 76.4%\n",
      "\n",
      "The Accuracy on Train Data of ('education', 'race') is = 75.6%\n",
      "The Accuracy on Test Data of ('education', 'race') is = 76.4%\n",
      "\n",
      "The Accuracy on Train Data of ('education', 'sex') is = 75.6%\n",
      "The Accuracy on Test Data of ('education', 'sex') is = 76.4%\n",
      "\n",
      "The Accuracy on Train Data of ('education', 'capitalgain') is = 77.7%\n",
      "The Accuracy on Test Data of ('education', 'capitalgain') is = 78.8%\n",
      "\n",
      "The Accuracy on Train Data of ('education', 'capitalloss') is = 75.4%\n",
      "The Accuracy on Test Data of ('education', 'capitalloss') is = 76.4%\n",
      "\n",
      "The Accuracy on Train Data of ('education', 'hoursperweek') is = 73.9%\n",
      "The Accuracy on Test Data of ('education', 'hoursperweek') is = 75.6%\n",
      "\n",
      "The Accuracy on Train Data of ('education', 'native') is = 74.5%\n",
      "The Accuracy on Test Data of ('education', 'native') is = 75.4%\n",
      "\n",
      "The Accuracy on Train Data of ('educationno', 'maritalstatus') is = 82.0%\n",
      "The Accuracy on Test Data of ('educationno', 'maritalstatus') is = 80.0%\n",
      "\n",
      "The Accuracy on Train Data of ('educationno', 'occupation') is = 77.5%\n",
      "The Accuracy on Test Data of ('educationno', 'occupation') is = 76.0%\n",
      "\n",
      "The Accuracy on Train Data of ('educationno', 'relationship') is = 80.80000000000001%\n",
      "The Accuracy on Test Data of ('educationno', 'relationship') is = 77.8%\n",
      "\n",
      "The Accuracy on Train Data of ('educationno', 'race') is = 77.60000000000001%\n",
      "The Accuracy on Test Data of ('educationno', 'race') is = 76.6%\n",
      "\n",
      "The Accuracy on Train Data of ('educationno', 'sex') is = 77.9%\n",
      "The Accuracy on Test Data of ('educationno', 'sex') is = 74.4%\n",
      "\n",
      "The Accuracy on Train Data of ('educationno', 'capitalgain') is = 77.60000000000001%\n",
      "The Accuracy on Test Data of ('educationno', 'capitalgain') is = 78.8%\n",
      "\n",
      "The Accuracy on Train Data of ('educationno', 'capitalloss') is = 76.3%\n",
      "The Accuracy on Test Data of ('educationno', 'capitalloss') is = 77.2%\n",
      "\n",
      "The Accuracy on Train Data of ('educationno', 'hoursperweek') is = 77.4%\n",
      "The Accuracy on Test Data of ('educationno', 'hoursperweek') is = 78.2%\n",
      "\n",
      "The Accuracy on Train Data of ('educationno', 'native') is = 77.3%\n",
      "The Accuracy on Test Data of ('educationno', 'native') is = 76.8%\n",
      "\n",
      "The Accuracy on Train Data of ('maritalstatus', 'occupation') is = 75.6%\n",
      "The Accuracy on Test Data of ('maritalstatus', 'occupation') is = 76.4%\n",
      "\n",
      "The Accuracy on Train Data of ('maritalstatus', 'relationship') is = 75.6%\n",
      "The Accuracy on Test Data of ('maritalstatus', 'relationship') is = 76.4%\n",
      "\n",
      "The Accuracy on Train Data of ('maritalstatus', 'race') is = 75.6%\n",
      "The Accuracy on Test Data of ('maritalstatus', 'race') is = 76.4%\n",
      "\n",
      "The Accuracy on Train Data of ('maritalstatus', 'sex') is = 75.6%\n",
      "The Accuracy on Test Data of ('maritalstatus', 'sex') is = 76.4%\n",
      "\n",
      "The Accuracy on Train Data of ('maritalstatus', 'capitalgain') is = 77.8%\n",
      "The Accuracy on Test Data of ('maritalstatus', 'capitalgain') is = 78.8%\n",
      "\n",
      "The Accuracy on Train Data of ('maritalstatus', 'capitalloss') is = 75.5%\n",
      "The Accuracy on Test Data of ('maritalstatus', 'capitalloss') is = 76.4%\n",
      "\n",
      "The Accuracy on Train Data of ('maritalstatus', 'hoursperweek') is = 76.3%\n",
      "The Accuracy on Test Data of ('maritalstatus', 'hoursperweek') is = 77.60000000000001%\n",
      "\n",
      "The Accuracy on Train Data of ('maritalstatus', 'native') is = 75.5%\n",
      "The Accuracy on Test Data of ('maritalstatus', 'native') is = 75.4%\n",
      "\n",
      "The Accuracy on Train Data of ('occupation', 'relationship') is = 75.6%\n",
      "The Accuracy on Test Data of ('occupation', 'relationship') is = 76.4%\n",
      "\n",
      "The Accuracy on Train Data of ('occupation', 'race') is = 75.6%\n",
      "The Accuracy on Test Data of ('occupation', 'race') is = 76.4%\n",
      "\n",
      "The Accuracy on Train Data of ('occupation', 'sex') is = 75.6%\n",
      "The Accuracy on Test Data of ('occupation', 'sex') is = 76.4%\n",
      "\n",
      "The Accuracy on Train Data of ('occupation', 'capitalgain') is = 77.60000000000001%\n",
      "The Accuracy on Test Data of ('occupation', 'capitalgain') is = 78.8%\n",
      "\n",
      "The Accuracy on Train Data of ('occupation', 'capitalloss') is = 75.4%\n",
      "The Accuracy on Test Data of ('occupation', 'capitalloss') is = 76.4%\n",
      "\n",
      "The Accuracy on Train Data of ('occupation', 'hoursperweek') is = 75.3%\n",
      "The Accuracy on Test Data of ('occupation', 'hoursperweek') is = 76.0%\n",
      "\n",
      "The Accuracy on Train Data of ('occupation', 'native') is = 74.1%\n",
      "The Accuracy on Test Data of ('occupation', 'native') is = 74.6%\n",
      "\n",
      "The Accuracy on Train Data of ('relationship', 'race') is = 75.6%\n",
      "The Accuracy on Test Data of ('relationship', 'race') is = 76.4%\n",
      "\n",
      "The Accuracy on Train Data of ('relationship', 'sex') is = 75.6%\n",
      "The Accuracy on Test Data of ('relationship', 'sex') is = 76.4%\n",
      "\n",
      "The Accuracy on Train Data of ('relationship', 'capitalgain') is = 77.60000000000001%\n",
      "The Accuracy on Test Data of ('relationship', 'capitalgain') is = 78.8%\n",
      "\n",
      "The Accuracy on Train Data of ('relationship', 'capitalloss') is = 75.4%\n",
      "The Accuracy on Test Data of ('relationship', 'capitalloss') is = 76.4%\n",
      "\n",
      "The Accuracy on Train Data of ('relationship', 'hoursperweek') is = 76.1%\n",
      "The Accuracy on Test Data of ('relationship', 'hoursperweek') is = 75.6%\n",
      "\n",
      "The Accuracy on Train Data of ('relationship', 'native') is = 74.8%\n",
      "The Accuracy on Test Data of ('relationship', 'native') is = 75.0%\n",
      "\n",
      "The Accuracy on Train Data of ('race', 'sex') is = 75.6%\n",
      "The Accuracy on Test Data of ('race', 'sex') is = 76.4%\n",
      "\n",
      "The Accuracy on Train Data of ('race', 'capitalgain') is = 77.60000000000001%\n",
      "The Accuracy on Test Data of ('race', 'capitalgain') is = 78.8%\n",
      "\n",
      "The Accuracy on Train Data of ('race', 'capitalloss') is = 75.4%\n",
      "The Accuracy on Test Data of ('race', 'capitalloss') is = 76.4%\n",
      "\n",
      "The Accuracy on Train Data of ('race', 'hoursperweek') is = 75.1%\n"
     ]
    },
    {
     "name": "stdout",
     "output_type": "stream",
     "text": [
      "The Accuracy on Test Data of ('race', 'hoursperweek') is = 76.2%\n",
      "\n",
      "The Accuracy on Train Data of ('race', 'native') is = 74.3%\n",
      "The Accuracy on Test Data of ('race', 'native') is = 75.2%\n",
      "\n",
      "The Accuracy on Train Data of ('sex', 'capitalgain') is = 77.60000000000001%\n",
      "The Accuracy on Test Data of ('sex', 'capitalgain') is = 78.8%\n",
      "\n",
      "The Accuracy on Train Data of ('sex', 'capitalloss') is = 75.4%\n",
      "The Accuracy on Test Data of ('sex', 'capitalloss') is = 76.4%\n",
      "\n",
      "The Accuracy on Train Data of ('sex', 'hoursperweek') is = 75.3%\n",
      "The Accuracy on Test Data of ('sex', 'hoursperweek') is = 75.0%\n",
      "\n",
      "The Accuracy on Train Data of ('sex', 'native') is = 74.8%\n",
      "The Accuracy on Test Data of ('sex', 'native') is = 75.2%\n",
      "\n",
      "The Accuracy on Train Data of ('capitalgain', 'capitalloss') is = 77.4%\n",
      "The Accuracy on Test Data of ('capitalgain', 'capitalloss') is = 78.8%\n",
      "\n",
      "The Accuracy on Train Data of ('capitalgain', 'hoursperweek') is = 77.60000000000001%\n",
      "The Accuracy on Test Data of ('capitalgain', 'hoursperweek') is = 78.8%\n",
      "\n",
      "The Accuracy on Train Data of ('capitalgain', 'native') is = 77.7%\n",
      "The Accuracy on Test Data of ('capitalgain', 'native') is = 78.60000000000001%\n",
      "\n",
      "The Accuracy on Train Data of ('capitalloss', 'hoursperweek') is = 75.4%\n",
      "The Accuracy on Test Data of ('capitalloss', 'hoursperweek') is = 76.4%\n",
      "\n",
      "The Accuracy on Train Data of ('capitalloss', 'native') is = 74.6%\n",
      "The Accuracy on Test Data of ('capitalloss', 'native') is = 75.6%\n",
      "\n",
      "The Accuracy on Train Data of ('hoursperweek', 'native') is = 74.4%\n",
      "The Accuracy on Test Data of ('hoursperweek', 'native') is = 75.2%\n",
      "\n"
     ]
    }
   ],
   "source": [
    "import itertools\n",
    "\n",
    "for i in itertools.combinations(salary_train.columns[0:-1],2):\n",
    "    # creating Model\n",
    "    model_g = GaussianNB()\n",
    "\n",
    "    # fitting the Model\n",
    "    model_g.fit(x_train[list(i)],y_train)\n",
    "\n",
    "    # predicting on Train Data & Test Data\n",
    "    pred_train_g = model_g.predict(x_train[list(i)])\n",
    "    pred_test_g = model_g.predict(x_test[(list(i))])\n",
    "    \n",
    "    # finding Accuracy \n",
    "    print(f'The Accuracy on Train Data of {i} is = {accuracy_score(y_train,pred_train_g)*100}%')\n",
    "    print(f'The Accuracy on Test Data of {i} is = {accuracy_score(y_test,pred_test_g)*100}%')\n",
    "    print()"
   ]
  },
  {
   "cell_type": "code",
   "execution_count": null,
   "id": "2ab9203e",
   "metadata": {},
   "outputs": [],
   "source": []
  },
  {
   "cell_type": "code",
   "execution_count": null,
   "id": "501f61e3",
   "metadata": {},
   "outputs": [],
   "source": []
  }
 ],
 "metadata": {
  "kernelspec": {
   "display_name": "Python 3 (ipykernel)",
   "language": "python",
   "name": "python3"
  },
  "language_info": {
   "codemirror_mode": {
    "name": "ipython",
    "version": 3
   },
   "file_extension": ".py",
   "mimetype": "text/x-python",
   "name": "python",
   "nbconvert_exporter": "python",
   "pygments_lexer": "ipython3",
   "version": "3.9.7"
  },
  "varInspector": {
   "cols": {
    "lenName": 16,
    "lenType": 16,
    "lenVar": 40
   },
   "kernels_config": {
    "python": {
     "delete_cmd_postfix": "",
     "delete_cmd_prefix": "del ",
     "library": "var_list.py",
     "varRefreshCmd": "print(var_dic_list())"
    },
    "r": {
     "delete_cmd_postfix": ") ",
     "delete_cmd_prefix": "rm(",
     "library": "var_list.r",
     "varRefreshCmd": "cat(var_dic_list()) "
    }
   },
   "types_to_exclude": [
    "module",
    "function",
    "builtin_function_or_method",
    "instance",
    "_Feature"
   ],
   "window_display": false
  }
 },
 "nbformat": 4,
 "nbformat_minor": 5
}
